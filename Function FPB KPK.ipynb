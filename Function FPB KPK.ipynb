{
 "cells": [
  {
   "cell_type": "code",
   "execution_count": 1,
   "metadata": {},
   "outputs": [
    {
     "name": "stdout",
     "output_type": "stream",
     "text": [
      "Pilihan:\n",
      "1. Hitung FPB\n",
      "2. Hitung KPK\n",
      "3. Keluar\n",
      "Masukkan pilihan Anda: 1\n",
      "Masukkan bilangan pertama: 8\n",
      "Masukkan bilangan kedua: 12\n",
      "FPB dari 8 dan 12 adalah 4\n",
      "Pilihan:\n",
      "1. Hitung FPB\n",
      "2. Hitung KPK\n",
      "3. Keluar\n",
      "Masukkan pilihan Anda: 2\n",
      "Masukkan bilangan pertama: 8\n",
      "Masukkan bilangan kedua: 12\n",
      "KPK dari 8 dan 12 adalah 24\n",
      "Pilihan:\n",
      "1. Hitung FPB\n",
      "2. Hitung KPK\n",
      "3. Keluar\n",
      "Masukkan pilihan Anda: 3\n",
      "Terima kasih!\n"
     ]
    }
   ],
   "source": [
    "def hitung_fpb(a, b):\n",
    "    if b == 0:\n",
    "        return a\n",
    "    else:\n",
    "        return hitung_fpb(b, a % b)\n",
    "\n",
    "def hitung_kpk(a, b):\n",
    "    kpk = max(a, b)\n",
    "    while True:\n",
    "        if kpk % a == 0 and kpk % b == 0:\n",
    "            return kpk\n",
    "        else:\n",
    "            kpk += 1\n",
    "\n",
    "while True:\n",
    "    print(\"Pilihan:\")\n",
    "    print(\"1. Hitung FPB\")\n",
    "    print(\"2. Hitung KPK\")\n",
    "    print(\"3. Keluar\")\n",
    "    \n",
    "    pilihan = int(input(\"Masukkan pilihan Anda: \"))\n",
    "    \n",
    "    if pilihan == 1:\n",
    "        a = int(input(\"Masukkan bilangan pertama: \"))\n",
    "        b = int(input(\"Masukkan bilangan kedua: \"))\n",
    "        fpb = hitung_fpb(a, b)\n",
    "        print(\"FPB dari\", a, \"dan\", b, \"adalah\", fpb)\n",
    "    elif pilihan == 2:\n",
    "        a = int(input(\"Masukkan bilangan pertama: \"))\n",
    "        b = int(input(\"Masukkan bilangan kedua: \"))\n",
    "        kpk = hitung_kpk(a, b)\n",
    "        print(\"KPK dari\", a, \"dan\", b, \"adalah\", kpk)\n",
    "    elif pilihan == 3:\n",
    "        print(\"Terima kasih!\")\n",
    "        break\n",
    "    else:\n",
    "        print(\"Pilihan tidak valid. Silakan coba lagi.\")"
   ]
  },
  {
   "cell_type": "code",
   "execution_count": null,
   "metadata": {},
   "outputs": [],
   "source": []
  }
 ],
 "metadata": {
  "kernelspec": {
   "display_name": "Python 3",
   "language": "python",
   "name": "python3"
  },
  "language_info": {
   "codemirror_mode": {
    "name": "ipython",
    "version": 3
   },
   "file_extension": ".py",
   "mimetype": "text/x-python",
   "name": "python",
   "nbconvert_exporter": "python",
   "pygments_lexer": "ipython3",
   "version": "3.8.5"
  }
 },
 "nbformat": 4,
 "nbformat_minor": 4
}
